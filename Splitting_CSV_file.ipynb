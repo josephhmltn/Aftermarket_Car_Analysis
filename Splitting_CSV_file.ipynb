{
 "cells": [
  {
   "cell_type": "code",
   "execution_count": 1,
   "metadata": {},
   "outputs": [],
   "source": [
    "import pandas as pd\n",
    "import os"
   ]
  },
  {
   "cell_type": "code",
   "execution_count": 2,
   "metadata": {},
   "outputs": [],
   "source": [
    "filename = \"craigslist_used_cars.csv\"\n",
    "filepath = os.path.join(os.getcwd(), filename)\n",
    "df_original = pd.read_csv(filepath)"
   ]
  },
  {
   "cell_type": "code",
   "execution_count": 3,
   "metadata": {},
   "outputs": [
    {
     "data": {
      "text/plain": [
       "(426880, 26)"
      ]
     },
     "execution_count": 3,
     "metadata": {},
     "output_type": "execute_result"
    }
   ],
   "source": [
    "df_original.shape"
   ]
  },
  {
   "cell_type": "code",
   "execution_count": 4,
   "metadata": {},
   "outputs": [
    {
     "data": {
      "text/plain": [
       "213440"
      ]
     },
     "execution_count": 4,
     "metadata": {},
     "output_type": "execute_result"
    }
   ],
   "source": [
    "split_size = len(df_original) // 2\n",
    "split_size"
   ]
  },
  {
   "cell_type": "code",
   "execution_count": 5,
   "metadata": {},
   "outputs": [],
   "source": [
    "for i in range(0, len(df_original), split_size):\n",
    "    df_subset = df_original.iloc[i:i + split_size]\n",
    "    df_subset.to_csv(f'craigslist_used_cars_part_{i // split_size + 1}.csv', index=False)\n"
   ]
  },
  {
   "cell_type": "code",
   "execution_count": 6,
   "metadata": {},
   "outputs": [],
   "source": [
    "total_rows = 0\n",
    "\n",
    "# Iterate through all files in the directory\n",
    "for filename in os.listdir(os.getcwd()):\n",
    "    if filename.startswith(\"craigslist_used_cars_part_\") and filename.endswith(\".csv\"):\n",
    "        filepath = os.path.join(os.getcwd(), filename)\n",
    "        df = pd.read_csv(filepath)\n",
    "        total_rows += len(df)\n",
    "\n"
   ]
  },
  {
   "cell_type": "code",
   "execution_count": 7,
   "metadata": {},
   "outputs": [
    {
     "name": "stdout",
     "output_type": "stream",
     "text": [
      "Total rows in all split files: 426880\n",
      "Total rows in original file: 426880\n"
     ]
    }
   ],
   "source": [
    "print(\"Total rows in all split files:\", total_rows)\n",
    "print(\"Total rows in original file:\", len(df_original))"
   ]
  }
 ],
 "metadata": {
  "kernelspec": {
   "display_name": "base",
   "language": "python",
   "name": "python3"
  },
  "language_info": {
   "codemirror_mode": {
    "name": "ipython",
    "version": 3
   },
   "file_extension": ".py",
   "mimetype": "text/x-python",
   "name": "python",
   "nbconvert_exporter": "python",
   "pygments_lexer": "ipython3",
   "version": "3.10.9"
  }
 },
 "nbformat": 4,
 "nbformat_minor": 2
}
